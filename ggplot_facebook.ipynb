{
 "cells": [
  {
   "cell_type": "markdown",
   "metadata": {},
   "source": [
    "https://github.com/Berkmann18/facebook-friend-network\n",
    "に従うことでfacebook friendsのcsv facebook.csvが生成される。\n",
    "python codeはjupyterからだとうまく動作しなかったので、vs codeから推奨"
   ]
  },
  {
   "cell_type": "code",
   "execution_count": null,
   "metadata": {},
   "outputs": [],
   "source": [
    "library(ggnetwork)"
   ]
  },
  {
   "cell_type": "code",
   "execution_count": null,
   "metadata": {},
   "outputs": [],
   "source": [
    "library(tidyverse)"
   ]
  },
  {
   "cell_type": "code",
   "execution_count": null,
   "metadata": {},
   "outputs": [],
   "source": [
    "library(readr)"
   ]
  },
  {
   "cell_type": "code",
   "execution_count": null,
   "metadata": {},
   "outputs": [],
   "source": [
    "df = read_tsv(\"two_column_df.tsv\")"
   ]
  },
  {
   "cell_type": "code",
   "execution_count": null,
   "metadata": {},
   "outputs": [],
   "source": [
    "df %>% head"
   ]
  },
  {
   "cell_type": "code",
   "execution_count": null,
   "metadata": {},
   "outputs": [],
   "source": [
    "library(igraph)"
   ]
  },
  {
   "cell_type": "code",
   "execution_count": null,
   "metadata": {},
   "outputs": [],
   "source": [
    "run_igraph = graph.data.frame(df %>% select(Source ,Target))"
   ]
  },
  {
   "cell_type": "markdown",
   "metadata": {},
   "source": [
    "## nodeに媒介中心性(betweenness centrality)をアサイン\n",
    "\n",
    "全てのvertex pair間の最短経路のいくつが自身を通るか\n"
   ]
  },
  {
   "cell_type": "code",
   "execution_count": null,
   "metadata": {},
   "outputs": [],
   "source": [
    "run_bet =  betweenness(run_igraph)"
   ]
  },
  {
   "cell_type": "code",
   "execution_count": null,
   "metadata": {},
   "outputs": [],
   "source": [
    "run_igraph = set_vertex_attr(run_igraph , \"bet\" , value = run_bet)"
   ]
  },
  {
   "cell_type": "markdown",
   "metadata": {},
   "source": [
    "## nodeにpage rankをアサイン"
   ]
  },
  {
   "cell_type": "code",
   "execution_count": null,
   "metadata": {},
   "outputs": [],
   "source": [
    "run_page_rank = page_rank(run_igraph)"
   ]
  },
  {
   "cell_type": "code",
   "execution_count": null,
   "metadata": {},
   "outputs": [],
   "source": [
    "run_igraph = set_vertex_attr(run_igraph , \"page_rank\" , value = run_page_rank$vector)"
   ]
  },
  {
   "cell_type": "markdown",
   "metadata": {},
   "source": [
    "## nodeにcluster_edge_betweennessをアサイン\n",
    "\n",
    "https://yokkuns.hatenadiary.org/entry/20120819/1345380060"
   ]
  },
  {
   "cell_type": "markdown",
   "metadata": {},
   "source": [
    "- 全てのvertex pair間の最短経路のいくつが自身（この場合edge）を通るか、がedge betweenness\n",
    "- edge betweennessが最大のedgeから取り除いていく\n",
    "- 全部取り除くところまで終了すると、デンドログラム（樹形図）ができる\n",
    "- 下から順番にどこかの段階で止めることでコミュニティ分解できる\n",
    "- どこで止めるかはmodularity Qという尺度がある模様\n",
    "- igraphのcluster_edge_betweennessではmodularityに基づいてcommunityを決定するのがデフォルト（？）"
   ]
  },
  {
   "cell_type": "code",
   "execution_count": null,
   "metadata": {},
   "outputs": [],
   "source": [
    "run_comm = cluster_edge_betweenness(run_igraph)"
   ]
  },
  {
   "cell_type": "code",
   "execution_count": null,
   "metadata": {},
   "outputs": [],
   "source": [
    "plot_dendrogram(run_comm)"
   ]
  },
  {
   "cell_type": "code",
   "execution_count": null,
   "metadata": {},
   "outputs": [],
   "source": [
    "class(run_comm)"
   ]
  },
  {
   "cell_type": "code",
   "execution_count": null,
   "metadata": {},
   "outputs": [],
   "source": [
    "run_mem = membership(run_comm)"
   ]
  },
  {
   "cell_type": "code",
   "execution_count": null,
   "metadata": {},
   "outputs": [],
   "source": [
    "run_igraph = set_vertex_attr(run_igraph , \"comm\" , value = run_mem)"
   ]
  },
  {
   "cell_type": "markdown",
   "metadata": {},
   "source": [
    "### 違う設定をためしてみる（sandbox)"
   ]
  },
  {
   "cell_type": "code",
   "execution_count": null,
   "metadata": {},
   "outputs": [],
   "source": [
    "run_comm_tmp = cluster_edge_betweenness(run_igraph , modularity = F , membership = F)"
   ]
  },
  {
   "cell_type": "code",
   "execution_count": null,
   "metadata": {},
   "outputs": [],
   "source": [
    "class(run_comm_tmp)"
   ]
  },
  {
   "cell_type": "code",
   "execution_count": null,
   "metadata": {},
   "outputs": [],
   "source": [
    "run_comm_tmp"
   ]
  },
  {
   "cell_type": "markdown",
   "metadata": {},
   "source": [
    "## sigmajs (better than ggplot + ggnetwork + ggiraph)"
   ]
  },
  {
   "cell_type": "markdown",
   "metadata": {},
   "source": [
    "https://github.com/jacomyal/sigma.js/wiki/Settings\n",
    "\n",
    "http://sigmajs.john-coene.com/"
   ]
  },
  {
   "cell_type": "code",
   "execution_count": null,
   "metadata": {},
   "outputs": [],
   "source": [
    "library(sigmajs)"
   ]
  },
  {
   "cell_type": "code",
   "execution_count": null,
   "metadata": {},
   "outputs": [],
   "source": [
    "run_igraph"
   ]
  },
  {
   "cell_type": "code",
   "execution_count": null,
   "metadata": {},
   "outputs": [],
   "source": [
    "run_igraph2 = igraph::set_vertex_attr(run_igraph , \"label\" , value = \n",
    "                                      V(run_igraph)$name)\n"
   ]
  },
  {
   "cell_type": "code",
   "execution_count": null,
   "metadata": {},
   "outputs": [],
   "source": [
    "sigmajs() %>% sigmajs::sg_from_igraph(run_igraph2) %>%   sg_cluster() %>% # cluster\n",
    "  sg_drag_nodes() %>% # allows user to drag nodes\n",
    "  sg_neighbours()  %>% \n",
    "  sg_settings(drawLabels = FALSE, \n",
    "              drawEdgeLabels = FALSE , \n",
    "             edgeHoverExtremities = T)"
   ]
  },
  {
   "cell_type": "markdown",
   "metadata": {},
   "source": [
    "## ggnetwork化"
   ]
  },
  {
   "cell_type": "code",
   "execution_count": null,
   "metadata": {},
   "outputs": [],
   "source": [
    "theme_set(theme_void())"
   ]
  },
  {
   "cell_type": "code",
   "execution_count": null,
   "metadata": {},
   "outputs": [],
   "source": [
    "\n",
    "options(repr.plot.width=14, repr.plot.height=10)"
   ]
  },
  {
   "cell_type": "code",
   "execution_count": null,
   "metadata": {},
   "outputs": [],
   "source": [
    "run_ggdf = fortify(run_igraph , layout = layout_(run_igraph , nicely()))"
   ]
  },
  {
   "cell_type": "code",
   "execution_count": null,
   "metadata": {},
   "outputs": [],
   "source": [
    "run_ggdf = fortify(run_igraph , layout = layout_(run_igraph , with_lgl()))"
   ]
  },
  {
   "cell_type": "code",
   "execution_count": null,
   "metadata": {},
   "outputs": [],
   "source": [
    "(g = ggplot(run_ggdf , aes(x = x , y = y , xend = xend , yend = yend , color = as.character(comm))) + \n",
    " geom_edges(alpha = 0.1 , size = 0.3) +\n",
    " #geom_nodes() + \n",
    " guides(color = F))"
   ]
  },
  {
   "cell_type": "markdown",
   "metadata": {},
   "source": [
    "http://curleylab.psych.columbia.edu/netviz/netviz1.html#/48"
   ]
  },
  {
   "cell_type": "code",
   "execution_count": null,
   "metadata": {},
   "outputs": [],
   "source": [
    "library(ggiraph)"
   ]
  },
  {
   "cell_type": "code",
   "execution_count": null,
   "metadata": {},
   "outputs": [],
   "source": [
    "gr = g + geom_point_interactive(aes(tooltip = name, size = bet))"
   ]
  },
  {
   "cell_type": "code",
   "execution_count": null,
   "metadata": {},
   "outputs": [],
   "source": [
    "run_gi = girafe(ggobj = gr , width_svg = 10, height_svg = 10)\n",
    "\n",
    "run_gi <- girafe_options(run_gi,\n",
    "  opts_sizing(rescale = FALSE) )\n",
    "\n",
    "run_gi"
   ]
  },
  {
   "cell_type": "code",
   "execution_count": null,
   "metadata": {},
   "outputs": [],
   "source": [
    "### 媒介中心性　vs.  page rank"
   ]
  },
  {
   "cell_type": "code",
   "execution_count": null,
   "metadata": {},
   "outputs": [],
   "source": [
    "gr = ggplot(run_ggdf , aes(x = page_rank , y = bet , color = as.character(comm), tooltip = name)) + \n",
    "geom_point_interactive() + theme_minimal() + guides(color = F)"
   ]
  },
  {
   "cell_type": "code",
   "execution_count": null,
   "metadata": {},
   "outputs": [],
   "source": [
    "run_gi = girafe(ggobj = gr , width_svg = 10, height_svg = 10)\n",
    "\n",
    "run_gi <- girafe_options(run_gi,\n",
    "  opts_sizing(rescale = FALSE) )\n",
    "\n",
    "run_gi"
   ]
  },
  {
   "cell_type": "code",
   "execution_count": null,
   "metadata": {},
   "outputs": [],
   "source": [
    "run_ggdf %>% head"
   ]
  },
  {
   "cell_type": "code",
   "execution_count": null,
   "metadata": {},
   "outputs": [],
   "source": []
  }
 ],
 "metadata": {
  "kernelspec": {
   "display_name": "R",
   "language": "R",
   "name": "ir"
  },
  "language_info": {
   "codemirror_mode": "r",
   "file_extension": ".r",
   "mimetype": "text/x-r-source",
   "name": "R",
   "pygments_lexer": "r",
   "version": "3.6.1"
  },
  "toc-autonumbering": true
 },
 "nbformat": 4,
 "nbformat_minor": 4
}
