{
 "cells": [
  {
   "cell_type": "markdown",
   "metadata": {},
   "source": [
    "https://github.com/Berkmann18/facebook-friend-network\n",
    "に従うことでfacebook friendsのcsv facebook.csvが生成される。\n",
    "python codeはjupyterからだとうまく動作しなかったので、vs codeから推奨"
   ]
  },
  {
   "cell_type": "code",
   "execution_count": 12,
   "metadata": {},
   "outputs": [],
   "source": [
    "library(ggnetwork)"
   ]
  },
  {
   "cell_type": "code",
   "execution_count": 13,
   "metadata": {},
   "outputs": [],
   "source": [
    "library(tidyverse)"
   ]
  },
  {
   "cell_type": "code",
   "execution_count": 5,
   "metadata": {},
   "outputs": [],
   "source": [
    "library(readr)"
   ]
  },
  {
   "cell_type": "code",
   "execution_count": 10,
   "metadata": {},
   "outputs": [
    {
     "name": "stderr",
     "output_type": "stream",
     "text": [
      "Parsed with column specification:\n",
      "cols(\n",
      "  `yuko.shibata.775 atsu.hira.9 enomoto.kira enomoto.niki kanekohideshi.tyo nanako37 nao.tsuchinaga rie.sato.5439087 ChungSue kentaro.okuda.39 aoi.kawamoto.12 toshio.yoshizawa1 yumiko.matsuda.16 hiroyuki.kambe.3 suwahara sunaga.tomoki dskishikawa hsoyama junichi.kuramochi.9 yoshiaki.kajiyashiki yoshihiro.tateishi.3` = \u001b[31mcol_character()\u001b[39m\n",
      ")\n",
      "\n"
     ]
    }
   ],
   "source": [
    "df = read_csv(\"facebook.csv\")"
   ]
  },
  {
   "cell_type": "code",
   "execution_count": 11,
   "metadata": {},
   "outputs": [
    {
     "data": {
      "text/html": [
       "<table>\n",
       "<caption>A tibble: 6 × 1</caption>\n",
       "<thead>\n",
       "\t<tr><th scope=col>yuko.shibata.775 atsu.hira.9 enomoto.kira enomoto.niki kanekohideshi.tyo nanako37 nao.tsuchinaga rie.sato.5439087 ChungSue kentaro.okuda.39 aoi.kawamoto.12 toshio.yoshizawa1 yumiko.matsuda.16 hiroyuki.kambe.3 suwahara sunaga.tomoki dskishikawa hsoyama junichi.kuramochi.9 yoshiaki.kajiyashiki yoshihiro.tateishi.3</th></tr>\n",
       "\t<tr><th scope=col>&lt;chr&gt;</th></tr>\n",
       "</thead>\n",
       "<tbody>\n",
       "\t<tr><td>ihcugoN.akayA atsu.hira.9 enomoto.kira enomoto.niki fumie.premier gordovondoom junya.komae takiyamakie mariko.goto2 shoko.kawai.1428 ChungSue yukiko.abe.754 atsuki.yoda.5 kentaro.okuda.39 tksym3 aoi.kawamoto.12 kakusaka toshio.yoshizawa1 yasuo.kanao yusuke.todaka.1 takamichi.tsugei kenichiro.kuroda yasuharu.sato1 yuichiyamazaki.u3 mutsu.oyama naoki.ono.39 yumiko.matsuda.16 suwahara deracinesomeya hsoyama junichi.kuramochi.9 yuriko.takizawa.14 junya.tanaki hiroki.watabe.5 anna.yagi.9 ayumi.tomiyama.9 yoshihiro.tateishi.3                                                                                                                                                                                                                                                                                                                                                                                                                                                                                                                                                                                                                                                                                                                                                                                                                                                                         </td></tr>\n",
       "\t<tr><td>hsoyama akari.maeda.587 nts0asd atsu.hira.9 monkeyearth enomoto.kira enomoto.niki fukiko.iguchi fumie.premier gildascaglioni gordovondoom kanekohideshi.tyo hikaru.jack itaru.wada.3 junya.komae takiyamakie luca.pilutza maria.golomidova mariko.goto2 muraimichio minae.tani nanako37 nao.tsuchinaga sakae.tsuyumu sanako.nishikawa shoko.kawai.1428 ChungSue tatsuya.itou yukari.kanehira.5 yuki.matsuo.988926 yurika.hanashima yukiko.abe.754 eli.mitamura jasminehisae kohei.inoue.14 kentaro.okuda.39 tksym3 aoi.kawamoto.12 kakusaka toshio.yoshizawa1 yamadayamao yukihiko.hashimoto yasuo.kanao micfuru yusuke.todaka.1 takamichi.tsugei kenichiro.kuroda yasuharu.sato1 yamamoto.yutaro.3 yuichiyamazaki.u3 yuko.shibata.775 mutsu.oyama koide.takahisa naoki.ono.39 yumiko.matsuda.16 suwahara sunaga.tomoki 193otame minako.chiba.9 deracinesomeya junichi.kuramochi.9 tomoko.otani.5 so.shibata.1 yuriko.takizawa.14 junya.tanaki tomoyuki.takeuchi.7 natsumi.nakahara.1 atsushi.nakamura913 hiroki.watabe.5 fujiwara.sachiko.5 anna.yagi.9 hanawasaori ayumi.tomiyama.9 tatsuro.hokumura ricaco.nagumo masae.nazuka ihcugoN.akayA yoshihiro.tateishi.3                                                                                                                                                                                                                                                  </td></tr>\n",
       "\t<tr><td>eli.mitamura atsu.hira.9 enomoto.kira enomoto.niki gildascaglioni kanekohideshi.tyo hikaru.jack junya.komae nanako37 nao.tsuchinaga rie.sato.5439087 yukari.kanehira.5 kentaro.okuda.39 aoi.kawamoto.12 toshio.yoshizawa1 yamadayamao takamichi.tsugei yasuharu.sato1 mutsu.oyama naoki.ono.39 yumiko.matsuda.16 suwahara sunaga.tomoki hsoyama junichi.kuramochi.9 junya.tanaki asako.nagase.5 tatsuro.hokumura yoshihiro.tateishi.3                                                                                                                                                                                                                                                                                                                                                                                                                                                                                                                                                                                                                                                                                                                                                                                                                                                                                                                                                                                 </td></tr>\n",
       "\t<tr><td>junya.tanaki akari.maeda.587 nts0asd atsu.hira.9 monkeyearth enomoto.kira enomoto.niki fukiko.iguchi fumie.premier gordovondoom kanekohideshi.tyo hikaru.jack itaru.wada.3 junya.komae takiyamakie kobayashi.maki.7 maria.golomidova mariko.goto2 muraimichio miki.kasai.10 minae.tani namiHEY nanako37 nao.tsuchinaga non.tsurushima rie.sato.5439087 sakae.tsuyumu sanako.nishikawa shoko.kawai.1428 ChungSue tatsuya.itou yukari.kanehira.5 yuki.matsuo.988926 yurika.hanashima yukiko.abe.754 eli.mitamura jasminehisae atsuki.yoda.5 kohei.inoue.14 kentaro.okuda.39 tksym3 aoi.kawamoto.12 kakusaka toshio.yoshizawa1 yamadayamao yukihiko.hashimoto yasuo.kanao micfuru yusuke.todaka.1 takamichi.tsugei kenichiro.kuroda sasaki.toru.9 yasuharu.sato1 yamamoto.yutaro.3 erika.yamaki.7 yuichiyamazaki.u3 mutsu.oyama koide.takahisa koichiro.ogawa.75 naoki.ono.39 yumiko.matsuda.16 suwahara sunaga.tomoki 193otame minako.chiba.9 deracinesomeya hsoyama junichi.kuramochi.9 tomoko.otani.5 so.shibata.1 yuriko.takizawa.14 tomoyuki.takeuchi.7 natsumi.nakahara.1 nakayamamasato atsushi.nakamura913 hiroki.watabe.5 tomomichi.watanabe.3 fujiwara.sachiko.5 anna.yagi.9 hanawasaori ayumi.tomiyama.9 yuuna.fukusima tatsuro.hokumura ricaco.nagumo masae.nazuka ihcugoN.akayA yoshihiro.tateishi.3                                                                                                        </td></tr>\n",
       "\t<tr><td>shiori.clark adamthenog mailanshul arina.tsukada atsuko.moriwaki.3 chiarachiari elvira.grob.5 gaku.ushiyama hokutoando hollie.lubbock james.musgrave.5 joachim.nroh joeplommer kana.banana kaoru.mutsuura lawrence.donaldson leni.kauffman.1 lyyang09 plummerfernandez maki.miura.79 mayumi.mori hle.michael midori.haba motoco.marine namiHEY rachael.hill.33 sebastian.zed.3 simon.fowler.161 smusgr sonoko.suzuki.58 suyeon.lee.1029 ishiyama.t.i takuya.kurashige tatsuya.itou yosuke.ushigome yui.sugiyama.319 yukipiccolo noriko.nishi.581 yasuhiko.watanabe.31 masako.okano.92 kyo.yoshida.7 keita.miyazaki.77 CHIKO.DOG sasaki.toru.9 mutsu.oyama koichiro.ogawa.75 ozzy1962 kenshu.shintsubo suwahara deracinesomeya sayuri.takizawa nakajima.yoshihide hiroki.watabe.5 iamreallyniceperson anna.yagi.9 nobuko.mochizuki sohei.kitada risa.suzuki1 haiji505                                                                                                                                                                                                                                                                                                                                                                                                                                                                                                                                                  </td></tr>\n",
       "\t<tr><td>yoshihiro.tateishi.3 akari.maeda.587 anya.gorson atsu.hira.9 monkeyearth colin.liepmann enomoto.kira enomoto.niki diloerisa fukiko.iguchi fumie.premier gildascaglioni kanekohideshi.tyo hikaru.jack itaru.wada.3 junya.komae kana.taguchi2 takiyamakie lori.dilo luca.pilutza maria.golomidova mariko.goto2 muraimichio miki.kasai.10 minae.tani namiHEY nanako37 nao.tsuchinaga olivier.laurendeau.5 ran.konoe rie.sato.5439087 sakae.tsuyumu sanako.nishikawa shoko.kawai.1428 ChungSue tamaki.nakano.94 tatsuya.itou yukari.kanehira.5 yuki.matsuo.988926 yurika.hanashima zZr0ck3r yukiko.abe.754 hiromi.funaki eli.mitamura jasminehisae atsuki.yoda.5 kohei.inoue.14 kentaro.okuda.39 tksym3 aoi.kawamoto.12 kakusaka toshio.yoshizawa1 yamadayamao yukihiko.hashimoto yasuo.kanao micfuru yusuke.todaka.1 takamichi.tsugei kenichiro.kuroda sasaki.toru.9 yasuharu.sato1 yamamoto.yutaro.3 yuichiyamazaki.u3 shiba.kaori yuko.shibata.775 mutsu.oyama koide.takahisa koichiro.ogawa.75 naoki.ono.39 yumiko.matsuda.16 hiroyuki.kambe.3 suwahara sunaga.tomoki 193otame minako.chiba.9 deracinesomeya hsoyama junichi.kuramochi.9 nasa.murakami tomoko.otani.5 so.shibata.1 junya.tanaki tomoyuki.takeuchi.7 natsumi.nakahara.1 atsushi.nakamura913 hiroki.watabe.5 tomomichi.watanabe.3 fujiwara.sachiko.5 anna.yagi.9 hanawasaori ayumi.tomiyama.9 yuuna.fukusima tatsuro.hokumura masae.nazuka ihcugoN.akayA</td></tr>\n",
       "</tbody>\n",
       "</table>\n"
      ],
      "text/latex": [
       "A tibble: 6 × 1\n",
       "\\begin{tabular}{l}\n",
       " yuko.shibata.775 atsu.hira.9 enomoto.kira enomoto.niki kanekohideshi.tyo nanako37 nao.tsuchinaga rie.sato.5439087 ChungSue kentaro.okuda.39 aoi.kawamoto.12 toshio.yoshizawa1 yumiko.matsuda.16 hiroyuki.kambe.3 suwahara sunaga.tomoki dskishikawa hsoyama junichi.kuramochi.9 yoshiaki.kajiyashiki yoshihiro.tateishi.3\\\\\n",
       " <chr>\\\\\n",
       "\\hline\n",
       "\t ihcugoN.akayA atsu.hira.9 enomoto.kira enomoto.niki fumie.premier gordovondoom junya.komae takiyamakie mariko.goto2 shoko.kawai.1428 ChungSue yukiko.abe.754 atsuki.yoda.5 kentaro.okuda.39 tksym3 aoi.kawamoto.12 kakusaka toshio.yoshizawa1 yasuo.kanao yusuke.todaka.1 takamichi.tsugei kenichiro.kuroda yasuharu.sato1 yuichiyamazaki.u3 mutsu.oyama naoki.ono.39 yumiko.matsuda.16 suwahara deracinesomeya hsoyama junichi.kuramochi.9 yuriko.takizawa.14 junya.tanaki hiroki.watabe.5 anna.yagi.9 ayumi.tomiyama.9 yoshihiro.tateishi.3                                                                                                                                                                                                                                                                                                                                                                                                                                                                                                                                                                                                                                                                                                                                                                                                                                                                         \\\\\n",
       "\t hsoyama akari.maeda.587 nts0asd atsu.hira.9 monkeyearth enomoto.kira enomoto.niki fukiko.iguchi fumie.premier gildascaglioni gordovondoom kanekohideshi.tyo hikaru.jack itaru.wada.3 junya.komae takiyamakie luca.pilutza maria.golomidova mariko.goto2 muraimichio minae.tani nanako37 nao.tsuchinaga sakae.tsuyumu sanako.nishikawa shoko.kawai.1428 ChungSue tatsuya.itou yukari.kanehira.5 yuki.matsuo.988926 yurika.hanashima yukiko.abe.754 eli.mitamura jasminehisae kohei.inoue.14 kentaro.okuda.39 tksym3 aoi.kawamoto.12 kakusaka toshio.yoshizawa1 yamadayamao yukihiko.hashimoto yasuo.kanao micfuru yusuke.todaka.1 takamichi.tsugei kenichiro.kuroda yasuharu.sato1 yamamoto.yutaro.3 yuichiyamazaki.u3 yuko.shibata.775 mutsu.oyama koide.takahisa naoki.ono.39 yumiko.matsuda.16 suwahara sunaga.tomoki 193otame minako.chiba.9 deracinesomeya junichi.kuramochi.9 tomoko.otani.5 so.shibata.1 yuriko.takizawa.14 junya.tanaki tomoyuki.takeuchi.7 natsumi.nakahara.1 atsushi.nakamura913 hiroki.watabe.5 fujiwara.sachiko.5 anna.yagi.9 hanawasaori ayumi.tomiyama.9 tatsuro.hokumura ricaco.nagumo masae.nazuka ihcugoN.akayA yoshihiro.tateishi.3                                                                                                                                                                                                                                                  \\\\\n",
       "\t eli.mitamura atsu.hira.9 enomoto.kira enomoto.niki gildascaglioni kanekohideshi.tyo hikaru.jack junya.komae nanako37 nao.tsuchinaga rie.sato.5439087 yukari.kanehira.5 kentaro.okuda.39 aoi.kawamoto.12 toshio.yoshizawa1 yamadayamao takamichi.tsugei yasuharu.sato1 mutsu.oyama naoki.ono.39 yumiko.matsuda.16 suwahara sunaga.tomoki hsoyama junichi.kuramochi.9 junya.tanaki asako.nagase.5 tatsuro.hokumura yoshihiro.tateishi.3                                                                                                                                                                                                                                                                                                                                                                                                                                                                                                                                                                                                                                                                                                                                                                                                                                                                                                                                                                                 \\\\\n",
       "\t junya.tanaki akari.maeda.587 nts0asd atsu.hira.9 monkeyearth enomoto.kira enomoto.niki fukiko.iguchi fumie.premier gordovondoom kanekohideshi.tyo hikaru.jack itaru.wada.3 junya.komae takiyamakie kobayashi.maki.7 maria.golomidova mariko.goto2 muraimichio miki.kasai.10 minae.tani namiHEY nanako37 nao.tsuchinaga non.tsurushima rie.sato.5439087 sakae.tsuyumu sanako.nishikawa shoko.kawai.1428 ChungSue tatsuya.itou yukari.kanehira.5 yuki.matsuo.988926 yurika.hanashima yukiko.abe.754 eli.mitamura jasminehisae atsuki.yoda.5 kohei.inoue.14 kentaro.okuda.39 tksym3 aoi.kawamoto.12 kakusaka toshio.yoshizawa1 yamadayamao yukihiko.hashimoto yasuo.kanao micfuru yusuke.todaka.1 takamichi.tsugei kenichiro.kuroda sasaki.toru.9 yasuharu.sato1 yamamoto.yutaro.3 erika.yamaki.7 yuichiyamazaki.u3 mutsu.oyama koide.takahisa koichiro.ogawa.75 naoki.ono.39 yumiko.matsuda.16 suwahara sunaga.tomoki 193otame minako.chiba.9 deracinesomeya hsoyama junichi.kuramochi.9 tomoko.otani.5 so.shibata.1 yuriko.takizawa.14 tomoyuki.takeuchi.7 natsumi.nakahara.1 nakayamamasato atsushi.nakamura913 hiroki.watabe.5 tomomichi.watanabe.3 fujiwara.sachiko.5 anna.yagi.9 hanawasaori ayumi.tomiyama.9 yuuna.fukusima tatsuro.hokumura ricaco.nagumo masae.nazuka ihcugoN.akayA yoshihiro.tateishi.3                                                                                                        \\\\\n",
       "\t shiori.clark adamthenog mailanshul arina.tsukada atsuko.moriwaki.3 chiarachiari elvira.grob.5 gaku.ushiyama hokutoando hollie.lubbock james.musgrave.5 joachim.nroh joeplommer kana.banana kaoru.mutsuura lawrence.donaldson leni.kauffman.1 lyyang09 plummerfernandez maki.miura.79 mayumi.mori hle.michael midori.haba motoco.marine namiHEY rachael.hill.33 sebastian.zed.3 simon.fowler.161 smusgr sonoko.suzuki.58 suyeon.lee.1029 ishiyama.t.i takuya.kurashige tatsuya.itou yosuke.ushigome yui.sugiyama.319 yukipiccolo noriko.nishi.581 yasuhiko.watanabe.31 masako.okano.92 kyo.yoshida.7 keita.miyazaki.77 CHIKO.DOG sasaki.toru.9 mutsu.oyama koichiro.ogawa.75 ozzy1962 kenshu.shintsubo suwahara deracinesomeya sayuri.takizawa nakajima.yoshihide hiroki.watabe.5 iamreallyniceperson anna.yagi.9 nobuko.mochizuki sohei.kitada risa.suzuki1 haiji505                                                                                                                                                                                                                                                                                                                                                                                                                                                                                                                                                  \\\\\n",
       "\t yoshihiro.tateishi.3 akari.maeda.587 anya.gorson atsu.hira.9 monkeyearth colin.liepmann enomoto.kira enomoto.niki diloerisa fukiko.iguchi fumie.premier gildascaglioni kanekohideshi.tyo hikaru.jack itaru.wada.3 junya.komae kana.taguchi2 takiyamakie lori.dilo luca.pilutza maria.golomidova mariko.goto2 muraimichio miki.kasai.10 minae.tani namiHEY nanako37 nao.tsuchinaga olivier.laurendeau.5 ran.konoe rie.sato.5439087 sakae.tsuyumu sanako.nishikawa shoko.kawai.1428 ChungSue tamaki.nakano.94 tatsuya.itou yukari.kanehira.5 yuki.matsuo.988926 yurika.hanashima zZr0ck3r yukiko.abe.754 hiromi.funaki eli.mitamura jasminehisae atsuki.yoda.5 kohei.inoue.14 kentaro.okuda.39 tksym3 aoi.kawamoto.12 kakusaka toshio.yoshizawa1 yamadayamao yukihiko.hashimoto yasuo.kanao micfuru yusuke.todaka.1 takamichi.tsugei kenichiro.kuroda sasaki.toru.9 yasuharu.sato1 yamamoto.yutaro.3 yuichiyamazaki.u3 shiba.kaori yuko.shibata.775 mutsu.oyama koide.takahisa koichiro.ogawa.75 naoki.ono.39 yumiko.matsuda.16 hiroyuki.kambe.3 suwahara sunaga.tomoki 193otame minako.chiba.9 deracinesomeya hsoyama junichi.kuramochi.9 nasa.murakami tomoko.otani.5 so.shibata.1 junya.tanaki tomoyuki.takeuchi.7 natsumi.nakahara.1 atsushi.nakamura913 hiroki.watabe.5 tomomichi.watanabe.3 fujiwara.sachiko.5 anna.yagi.9 hanawasaori ayumi.tomiyama.9 yuuna.fukusima tatsuro.hokumura masae.nazuka ihcugoN.akayA\\\\\n",
       "\\end{tabular}\n"
      ],
      "text/markdown": [
       "\n",
       "A tibble: 6 × 1\n",
       "\n",
       "| yuko.shibata.775 atsu.hira.9 enomoto.kira enomoto.niki kanekohideshi.tyo nanako37 nao.tsuchinaga rie.sato.5439087 ChungSue kentaro.okuda.39 aoi.kawamoto.12 toshio.yoshizawa1 yumiko.matsuda.16 hiroyuki.kambe.3 suwahara sunaga.tomoki dskishikawa hsoyama junichi.kuramochi.9 yoshiaki.kajiyashiki yoshihiro.tateishi.3 &lt;chr&gt; |\n",
       "|---|\n",
       "| ihcugoN.akayA atsu.hira.9 enomoto.kira enomoto.niki fumie.premier gordovondoom junya.komae takiyamakie mariko.goto2 shoko.kawai.1428 ChungSue yukiko.abe.754 atsuki.yoda.5 kentaro.okuda.39 tksym3 aoi.kawamoto.12 kakusaka toshio.yoshizawa1 yasuo.kanao yusuke.todaka.1 takamichi.tsugei kenichiro.kuroda yasuharu.sato1 yuichiyamazaki.u3 mutsu.oyama naoki.ono.39 yumiko.matsuda.16 suwahara deracinesomeya hsoyama junichi.kuramochi.9 yuriko.takizawa.14 junya.tanaki hiroki.watabe.5 anna.yagi.9 ayumi.tomiyama.9 yoshihiro.tateishi.3                                                                                                                                                                                                                                                                                                                                                                                                                                                                                                                                                                                                                                                                                                                                                                                                                                                                          |\n",
       "| hsoyama akari.maeda.587 nts0asd atsu.hira.9 monkeyearth enomoto.kira enomoto.niki fukiko.iguchi fumie.premier gildascaglioni gordovondoom kanekohideshi.tyo hikaru.jack itaru.wada.3 junya.komae takiyamakie luca.pilutza maria.golomidova mariko.goto2 muraimichio minae.tani nanako37 nao.tsuchinaga sakae.tsuyumu sanako.nishikawa shoko.kawai.1428 ChungSue tatsuya.itou yukari.kanehira.5 yuki.matsuo.988926 yurika.hanashima yukiko.abe.754 eli.mitamura jasminehisae kohei.inoue.14 kentaro.okuda.39 tksym3 aoi.kawamoto.12 kakusaka toshio.yoshizawa1 yamadayamao yukihiko.hashimoto yasuo.kanao micfuru yusuke.todaka.1 takamichi.tsugei kenichiro.kuroda yasuharu.sato1 yamamoto.yutaro.3 yuichiyamazaki.u3 yuko.shibata.775 mutsu.oyama koide.takahisa naoki.ono.39 yumiko.matsuda.16 suwahara sunaga.tomoki 193otame minako.chiba.9 deracinesomeya junichi.kuramochi.9 tomoko.otani.5 so.shibata.1 yuriko.takizawa.14 junya.tanaki tomoyuki.takeuchi.7 natsumi.nakahara.1 atsushi.nakamura913 hiroki.watabe.5 fujiwara.sachiko.5 anna.yagi.9 hanawasaori ayumi.tomiyama.9 tatsuro.hokumura ricaco.nagumo masae.nazuka ihcugoN.akayA yoshihiro.tateishi.3                                                                                                                                                                                                                                                   |\n",
       "| eli.mitamura atsu.hira.9 enomoto.kira enomoto.niki gildascaglioni kanekohideshi.tyo hikaru.jack junya.komae nanako37 nao.tsuchinaga rie.sato.5439087 yukari.kanehira.5 kentaro.okuda.39 aoi.kawamoto.12 toshio.yoshizawa1 yamadayamao takamichi.tsugei yasuharu.sato1 mutsu.oyama naoki.ono.39 yumiko.matsuda.16 suwahara sunaga.tomoki hsoyama junichi.kuramochi.9 junya.tanaki asako.nagase.5 tatsuro.hokumura yoshihiro.tateishi.3                                                                                                                                                                                                                                                                                                                                                                                                                                                                                                                                                                                                                                                                                                                                                                                                                                                                                                                                                                                  |\n",
       "| junya.tanaki akari.maeda.587 nts0asd atsu.hira.9 monkeyearth enomoto.kira enomoto.niki fukiko.iguchi fumie.premier gordovondoom kanekohideshi.tyo hikaru.jack itaru.wada.3 junya.komae takiyamakie kobayashi.maki.7 maria.golomidova mariko.goto2 muraimichio miki.kasai.10 minae.tani namiHEY nanako37 nao.tsuchinaga non.tsurushima rie.sato.5439087 sakae.tsuyumu sanako.nishikawa shoko.kawai.1428 ChungSue tatsuya.itou yukari.kanehira.5 yuki.matsuo.988926 yurika.hanashima yukiko.abe.754 eli.mitamura jasminehisae atsuki.yoda.5 kohei.inoue.14 kentaro.okuda.39 tksym3 aoi.kawamoto.12 kakusaka toshio.yoshizawa1 yamadayamao yukihiko.hashimoto yasuo.kanao micfuru yusuke.todaka.1 takamichi.tsugei kenichiro.kuroda sasaki.toru.9 yasuharu.sato1 yamamoto.yutaro.3 erika.yamaki.7 yuichiyamazaki.u3 mutsu.oyama koide.takahisa koichiro.ogawa.75 naoki.ono.39 yumiko.matsuda.16 suwahara sunaga.tomoki 193otame minako.chiba.9 deracinesomeya hsoyama junichi.kuramochi.9 tomoko.otani.5 so.shibata.1 yuriko.takizawa.14 tomoyuki.takeuchi.7 natsumi.nakahara.1 nakayamamasato atsushi.nakamura913 hiroki.watabe.5 tomomichi.watanabe.3 fujiwara.sachiko.5 anna.yagi.9 hanawasaori ayumi.tomiyama.9 yuuna.fukusima tatsuro.hokumura ricaco.nagumo masae.nazuka ihcugoN.akayA yoshihiro.tateishi.3                                                                                                         |\n",
       "| shiori.clark adamthenog mailanshul arina.tsukada atsuko.moriwaki.3 chiarachiari elvira.grob.5 gaku.ushiyama hokutoando hollie.lubbock james.musgrave.5 joachim.nroh joeplommer kana.banana kaoru.mutsuura lawrence.donaldson leni.kauffman.1 lyyang09 plummerfernandez maki.miura.79 mayumi.mori hle.michael midori.haba motoco.marine namiHEY rachael.hill.33 sebastian.zed.3 simon.fowler.161 smusgr sonoko.suzuki.58 suyeon.lee.1029 ishiyama.t.i takuya.kurashige tatsuya.itou yosuke.ushigome yui.sugiyama.319 yukipiccolo noriko.nishi.581 yasuhiko.watanabe.31 masako.okano.92 kyo.yoshida.7 keita.miyazaki.77 CHIKO.DOG sasaki.toru.9 mutsu.oyama koichiro.ogawa.75 ozzy1962 kenshu.shintsubo suwahara deracinesomeya sayuri.takizawa nakajima.yoshihide hiroki.watabe.5 iamreallyniceperson anna.yagi.9 nobuko.mochizuki sohei.kitada risa.suzuki1 haiji505                                                                                                                                                                                                                                                                                                                                                                                                                                                                                                                                                   |\n",
       "| yoshihiro.tateishi.3 akari.maeda.587 anya.gorson atsu.hira.9 monkeyearth colin.liepmann enomoto.kira enomoto.niki diloerisa fukiko.iguchi fumie.premier gildascaglioni kanekohideshi.tyo hikaru.jack itaru.wada.3 junya.komae kana.taguchi2 takiyamakie lori.dilo luca.pilutza maria.golomidova mariko.goto2 muraimichio miki.kasai.10 minae.tani namiHEY nanako37 nao.tsuchinaga olivier.laurendeau.5 ran.konoe rie.sato.5439087 sakae.tsuyumu sanako.nishikawa shoko.kawai.1428 ChungSue tamaki.nakano.94 tatsuya.itou yukari.kanehira.5 yuki.matsuo.988926 yurika.hanashima zZr0ck3r yukiko.abe.754 hiromi.funaki eli.mitamura jasminehisae atsuki.yoda.5 kohei.inoue.14 kentaro.okuda.39 tksym3 aoi.kawamoto.12 kakusaka toshio.yoshizawa1 yamadayamao yukihiko.hashimoto yasuo.kanao micfuru yusuke.todaka.1 takamichi.tsugei kenichiro.kuroda sasaki.toru.9 yasuharu.sato1 yamamoto.yutaro.3 yuichiyamazaki.u3 shiba.kaori yuko.shibata.775 mutsu.oyama koide.takahisa koichiro.ogawa.75 naoki.ono.39 yumiko.matsuda.16 hiroyuki.kambe.3 suwahara sunaga.tomoki 193otame minako.chiba.9 deracinesomeya hsoyama junichi.kuramochi.9 nasa.murakami tomoko.otani.5 so.shibata.1 junya.tanaki tomoyuki.takeuchi.7 natsumi.nakahara.1 atsushi.nakamura913 hiroki.watabe.5 tomomichi.watanabe.3 fujiwara.sachiko.5 anna.yagi.9 hanawasaori ayumi.tomiyama.9 yuuna.fukusima tatsuro.hokumura masae.nazuka ihcugoN.akayA |\n",
       "\n"
      ],
      "text/plain": [
       "  yuko.shibata.775 atsu.hira.9 enomoto.kira enomoto.niki kanekohideshi.tyo nanako37 nao.tsuchinaga rie.sato.5439087 ChungSue kentaro.okuda.39 aoi.kawamoto.12 toshio.yoshizawa1 yumiko.matsuda.16 hiroyuki.kambe.3 suwahara sunaga.tomoki dskishikawa hsoyama junichi.kuramochi.9 yoshiaki.kajiyashiki yoshihiro.tateishi.3                                                                                                                                                                                                                                                                                                                                                                                                                                                                                                                                                                                                                                                                                                                                                                                                                                                                                                                                                                                                                                                                                             \n",
       "1 ihcugoN.akayA atsu.hira.9 enomoto.kira enomoto.niki fumie.premier gordovondoom junya.komae takiyamakie mariko.goto2 shoko.kawai.1428 ChungSue yukiko.abe.754 atsuki.yoda.5 kentaro.okuda.39 tksym3 aoi.kawamoto.12 kakusaka toshio.yoshizawa1 yasuo.kanao yusuke.todaka.1 takamichi.tsugei kenichiro.kuroda yasuharu.sato1 yuichiyamazaki.u3 mutsu.oyama naoki.ono.39 yumiko.matsuda.16 suwahara deracinesomeya hsoyama junichi.kuramochi.9 yuriko.takizawa.14 junya.tanaki hiroki.watabe.5 anna.yagi.9 ayumi.tomiyama.9 yoshihiro.tateishi.3                                                                                                                                                                                                                                                                                                                                                                                                                                                                                                                                                                                                                                                                                                                                                                                                                                                                         \n",
       "2 hsoyama akari.maeda.587 nts0asd atsu.hira.9 monkeyearth enomoto.kira enomoto.niki fukiko.iguchi fumie.premier gildascaglioni gordovondoom kanekohideshi.tyo hikaru.jack itaru.wada.3 junya.komae takiyamakie luca.pilutza maria.golomidova mariko.goto2 muraimichio minae.tani nanako37 nao.tsuchinaga sakae.tsuyumu sanako.nishikawa shoko.kawai.1428 ChungSue tatsuya.itou yukari.kanehira.5 yuki.matsuo.988926 yurika.hanashima yukiko.abe.754 eli.mitamura jasminehisae kohei.inoue.14 kentaro.okuda.39 tksym3 aoi.kawamoto.12 kakusaka toshio.yoshizawa1 yamadayamao yukihiko.hashimoto yasuo.kanao micfuru yusuke.todaka.1 takamichi.tsugei kenichiro.kuroda yasuharu.sato1 yamamoto.yutaro.3 yuichiyamazaki.u3 yuko.shibata.775 mutsu.oyama koide.takahisa naoki.ono.39 yumiko.matsuda.16 suwahara sunaga.tomoki 193otame minako.chiba.9 deracinesomeya junichi.kuramochi.9 tomoko.otani.5 so.shibata.1 yuriko.takizawa.14 junya.tanaki tomoyuki.takeuchi.7 natsumi.nakahara.1 atsushi.nakamura913 hiroki.watabe.5 fujiwara.sachiko.5 anna.yagi.9 hanawasaori ayumi.tomiyama.9 tatsuro.hokumura ricaco.nagumo masae.nazuka ihcugoN.akayA yoshihiro.tateishi.3                                                                                                                                                                                                                                                  \n",
       "3 eli.mitamura atsu.hira.9 enomoto.kira enomoto.niki gildascaglioni kanekohideshi.tyo hikaru.jack junya.komae nanako37 nao.tsuchinaga rie.sato.5439087 yukari.kanehira.5 kentaro.okuda.39 aoi.kawamoto.12 toshio.yoshizawa1 yamadayamao takamichi.tsugei yasuharu.sato1 mutsu.oyama naoki.ono.39 yumiko.matsuda.16 suwahara sunaga.tomoki hsoyama junichi.kuramochi.9 junya.tanaki asako.nagase.5 tatsuro.hokumura yoshihiro.tateishi.3                                                                                                                                                                                                                                                                                                                                                                                                                                                                                                                                                                                                                                                                                                                                                                                                                                                                                                                                                                                 \n",
       "4 junya.tanaki akari.maeda.587 nts0asd atsu.hira.9 monkeyearth enomoto.kira enomoto.niki fukiko.iguchi fumie.premier gordovondoom kanekohideshi.tyo hikaru.jack itaru.wada.3 junya.komae takiyamakie kobayashi.maki.7 maria.golomidova mariko.goto2 muraimichio miki.kasai.10 minae.tani namiHEY nanako37 nao.tsuchinaga non.tsurushima rie.sato.5439087 sakae.tsuyumu sanako.nishikawa shoko.kawai.1428 ChungSue tatsuya.itou yukari.kanehira.5 yuki.matsuo.988926 yurika.hanashima yukiko.abe.754 eli.mitamura jasminehisae atsuki.yoda.5 kohei.inoue.14 kentaro.okuda.39 tksym3 aoi.kawamoto.12 kakusaka toshio.yoshizawa1 yamadayamao yukihiko.hashimoto yasuo.kanao micfuru yusuke.todaka.1 takamichi.tsugei kenichiro.kuroda sasaki.toru.9 yasuharu.sato1 yamamoto.yutaro.3 erika.yamaki.7 yuichiyamazaki.u3 mutsu.oyama koide.takahisa koichiro.ogawa.75 naoki.ono.39 yumiko.matsuda.16 suwahara sunaga.tomoki 193otame minako.chiba.9 deracinesomeya hsoyama junichi.kuramochi.9 tomoko.otani.5 so.shibata.1 yuriko.takizawa.14 tomoyuki.takeuchi.7 natsumi.nakahara.1 nakayamamasato atsushi.nakamura913 hiroki.watabe.5 tomomichi.watanabe.3 fujiwara.sachiko.5 anna.yagi.9 hanawasaori ayumi.tomiyama.9 yuuna.fukusima tatsuro.hokumura ricaco.nagumo masae.nazuka ihcugoN.akayA yoshihiro.tateishi.3                                                                                                        \n",
       "5 shiori.clark adamthenog mailanshul arina.tsukada atsuko.moriwaki.3 chiarachiari elvira.grob.5 gaku.ushiyama hokutoando hollie.lubbock james.musgrave.5 joachim.nroh joeplommer kana.banana kaoru.mutsuura lawrence.donaldson leni.kauffman.1 lyyang09 plummerfernandez maki.miura.79 mayumi.mori hle.michael midori.haba motoco.marine namiHEY rachael.hill.33 sebastian.zed.3 simon.fowler.161 smusgr sonoko.suzuki.58 suyeon.lee.1029 ishiyama.t.i takuya.kurashige tatsuya.itou yosuke.ushigome yui.sugiyama.319 yukipiccolo noriko.nishi.581 yasuhiko.watanabe.31 masako.okano.92 kyo.yoshida.7 keita.miyazaki.77 CHIKO.DOG sasaki.toru.9 mutsu.oyama koichiro.ogawa.75 ozzy1962 kenshu.shintsubo suwahara deracinesomeya sayuri.takizawa nakajima.yoshihide hiroki.watabe.5 iamreallyniceperson anna.yagi.9 nobuko.mochizuki sohei.kitada risa.suzuki1 haiji505                                                                                                                                                                                                                                                                                                                                                                                                                                                                                                                                                  \n",
       "6 yoshihiro.tateishi.3 akari.maeda.587 anya.gorson atsu.hira.9 monkeyearth colin.liepmann enomoto.kira enomoto.niki diloerisa fukiko.iguchi fumie.premier gildascaglioni kanekohideshi.tyo hikaru.jack itaru.wada.3 junya.komae kana.taguchi2 takiyamakie lori.dilo luca.pilutza maria.golomidova mariko.goto2 muraimichio miki.kasai.10 minae.tani namiHEY nanako37 nao.tsuchinaga olivier.laurendeau.5 ran.konoe rie.sato.5439087 sakae.tsuyumu sanako.nishikawa shoko.kawai.1428 ChungSue tamaki.nakano.94 tatsuya.itou yukari.kanehira.5 yuki.matsuo.988926 yurika.hanashima zZr0ck3r yukiko.abe.754 hiromi.funaki eli.mitamura jasminehisae atsuki.yoda.5 kohei.inoue.14 kentaro.okuda.39 tksym3 aoi.kawamoto.12 kakusaka toshio.yoshizawa1 yamadayamao yukihiko.hashimoto yasuo.kanao micfuru yusuke.todaka.1 takamichi.tsugei kenichiro.kuroda sasaki.toru.9 yasuharu.sato1 yamamoto.yutaro.3 yuichiyamazaki.u3 shiba.kaori yuko.shibata.775 mutsu.oyama koide.takahisa koichiro.ogawa.75 naoki.ono.39 yumiko.matsuda.16 hiroyuki.kambe.3 suwahara sunaga.tomoki 193otame minako.chiba.9 deracinesomeya hsoyama junichi.kuramochi.9 nasa.murakami tomoko.otani.5 so.shibata.1 junya.tanaki tomoyuki.takeuchi.7 natsumi.nakahara.1 atsushi.nakamura913 hiroki.watabe.5 tomomichi.watanabe.3 fujiwara.sachiko.5 anna.yagi.9 hanawasaori ayumi.tomiyama.9 yuuna.fukusima tatsuro.hokumura masae.nazuka ihcugoN.akayA"
      ]
     },
     "metadata": {},
     "output_type": "display_data"
    }
   ],
   "source": [
    "df %>% head"
   ]
  },
  {
   "cell_type": "code",
   "execution_count": null,
   "metadata": {},
   "outputs": [],
   "source": []
  },
  {
   "cell_type": "code",
   "execution_count": 16,
   "metadata": {},
   "outputs": [],
   "source": [
    "n = 10^19"
   ]
  },
  {
   "cell_type": "code",
   "execution_count": 15,
   "metadata": {},
   "outputs": [
    {
     "data": {
      "text/html": [
       "143955.777365642"
      ],
      "text/latex": [
       "143955.777365642"
      ],
      "text/markdown": [
       "143955.777365642"
      ],
      "text/plain": [
       "[1] 143955.8"
      ]
     },
     "metadata": {},
     "output_type": "display_data"
    }
   ],
   "source": [
    "sqrt(n*log(n))"
   ]
  },
  {
   "cell_type": "code",
   "execution_count": 17,
   "metadata": {},
   "outputs": [
    {
     "data": {
      "text/html": [
       "20916289529.1892"
      ],
      "text/latex": [
       "20916289529.1892"
      ],
      "text/markdown": [
       "20916289529.1892"
      ],
      "text/plain": [
       "[1] 20916289529"
      ]
     },
     "metadata": {},
     "output_type": "display_data"
    }
   ],
   "source": [
    "sqrt(n*log(n))"
   ]
  },
  {
   "cell_type": "code",
   "execution_count": null,
   "metadata": {},
   "outputs": [],
   "source": []
  }
 ],
 "metadata": {
  "kernelspec": {
   "display_name": "R",
   "language": "R",
   "name": "ir"
  },
  "language_info": {
   "codemirror_mode": "r",
   "file_extension": ".r",
   "mimetype": "text/x-r-source",
   "name": "R",
   "pygments_lexer": "r",
   "version": "3.6.1"
  }
 },
 "nbformat": 4,
 "nbformat_minor": 4
}
